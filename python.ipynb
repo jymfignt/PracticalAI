{
 "cells": [
  {
   "cell_type": "markdown",
   "id": "360552d2",
   "metadata": {},
   "source": [
    "## 变量\n",
    "变量（variables）是python中的对象，可以存储数值或字符串。我们来看看如何创建一些变量。"
   ]
  },
  {
   "cell_type": "code",
   "execution_count": 1,
   "id": "ebbd4c6a",
   "metadata": {},
   "outputs": [
    {
     "name": "stdout",
     "output_type": "stream",
     "text": [
      "5\n"
     ]
    }
   ],
   "source": [
    "x = 5\n",
    "print (x)"
   ]
  },
  {
   "cell_type": "code",
   "execution_count": 2,
   "id": "5170a8ae",
   "metadata": {},
   "outputs": [
    {
     "name": "stdout",
     "output_type": "stream",
     "text": [
      "Hello world!\n"
     ]
    }
   ],
   "source": [
    "x = \"Hello world!\"\n",
    "print (x)"
   ]
  },
  {
   "cell_type": "markdown",
   "id": "05eddc50",
   "metadata": {},
   "source": [
    "变量可以有很多不同的类型。 即使在数值变量中，也可以使用整数（int），浮点数（float）等。所有基于字符串的变量都是string（str）类型。我们可以通过打印它的类型来查看变量的类型。"
   ]
  },
  {
   "cell_type": "code",
   "execution_count": 3,
   "id": "f09d011b",
   "metadata": {},
   "outputs": [
    {
     "name": "stdout",
     "output_type": "stream",
     "text": [
      "5\n",
      "<class 'int'>\n",
      "5.0\n",
      "<class 'float'>\n",
      "5\n",
      "<class 'str'>\n",
      "True\n",
      "<class 'bool'>\n"
     ]
    }
   ],
   "source": [
    "# int 变量\n",
    "x = 5\n",
    "print (x)\n",
    "print (type(x))\n",
    "\n",
    "# float 变量\n",
    "x = 5.0\n",
    "print (x)\n",
    "print (type(x))\n",
    "\n",
    "# text 变量（即为str）\n",
    "x = \"5\" \n",
    "print (x)\n",
    "print (type(x))\n",
    "\n",
    "# boolean 变量\n",
    "x = True\n",
    "print (x)\n",
    "print (type(x))"
   ]
  },
  {
   "cell_type": "markdown",
   "id": "b66cdc8c",
   "metadata": {},
   "source": [
    "知道变量的类型是一种很好的做法。当你想在那时使用数值运算时，它们需要类型兼容。"
   ]
  },
  {
   "cell_type": "code",
   "execution_count": null,
   "id": "ad9d06af",
   "metadata": {},
   "outputs": [],
   "source": [
    "# int 变量\n",
    "a = 5\n",
    "b = 3\n",
    "print (a + b)\n",
    "\n",
    "# string 变量\n",
    "a = \"5\"\n",
    "b = \"3\"\n",
    "print (a + b)"
   ]
  },
  {
   "cell_type": "markdown",
   "id": "4648c17b",
   "metadata": {},
   "source": [
    "## 列表\n",
    "列表（lists）是python中的对象，可以包含有序的数字序列和字符串。"
   ]
  },
  {
   "cell_type": "code",
   "execution_count": 1,
   "id": "cb27f956",
   "metadata": {},
   "outputs": [
    {
     "name": "stdout",
     "output_type": "stream",
     "text": [
      "[3, 'hello', 1]\n"
     ]
    }
   ],
   "source": [
    "list_x = [3, \"hello\", 1]\n",
    "print (list_x)"
   ]
  },
  {
   "cell_type": "code",
   "execution_count": 2,
   "id": "6f35793a",
   "metadata": {},
   "outputs": [
    {
     "name": "stdout",
     "output_type": "stream",
     "text": [
      "[3, 'hello', 1, 7]\n"
     ]
    }
   ],
   "source": [
    "# 向列表中添加元素\n",
    "list_x.append(7)\n",
    "print (list_x)"
   ]
  },
  {
   "cell_type": "code",
   "execution_count": 3,
   "id": "84624d43",
   "metadata": {},
   "outputs": [
    {
     "name": "stdout",
     "output_type": "stream",
     "text": [
      "list_x[0]:  3\n",
      "list_x[1]:  hello\n",
      "list_x[2]:  1\n",
      "list_x[-1]:  7\n",
      "list_x[-2]:  1\n"
     ]
    }
   ],
   "source": [
    "# 访问列表中特定位置的元素\n",
    "print (\"list_x[0]: \", list_x[0])\n",
    "print (\"list_x[1]: \", list_x[1])\n",
    "print (\"list_x[2]: \", list_x[2])\n",
    "print (\"list_x[-1]: \", list_x[-1]) # 索引值为-1时，表示访问最后的元素\n",
    "print (\"list_x[-2]: \", list_x[-2]) # 索引值为-2时，表示访问倒数第二个元素"
   ]
  },
  {
   "cell_type": "code",
   "execution_count": 4,
   "id": "de1725f7",
   "metadata": {},
   "outputs": [
    {
     "name": "stdout",
     "output_type": "stream",
     "text": [
      "list_x[:]:  [3, 'hello', 1, 7]\n",
      "list_x[2:]:  [1, 7]\n",
      "list_x[1:3]:  ['hello', 1]\n",
      "list_x[:-1]:  [3, 'hello', 1]\n"
     ]
    }
   ],
   "source": [
    "# 切片\n",
    "print (\"list_x[:]: \", list_x[:])\n",
    "print (\"list_x[2:]: \", list_x[2:])\n",
    "print (\"list_x[1:3]: \", list_x[1:3])\n",
    "print (\"list_x[:-1]: \", list_x[:-1])"
   ]
  },
  {
   "cell_type": "code",
   "execution_count": null,
   "id": "0ff7101d",
   "metadata": {},
   "outputs": [],
   "source": [
    "# 列表的长度\n",
    "len(list_x)"
   ]
  },
  {
   "cell_type": "code",
   "execution_count": null,
   "id": "8dbdfc71",
   "metadata": {},
   "outputs": [],
   "source": [
    "# 替换列表中的元素\n",
    "list_x[1] = \"hi\"\n",
    "print (list_x)"
   ]
  },
  {
   "cell_type": "code",
   "execution_count": null,
   "id": "9a5d6ef1",
   "metadata": {},
   "outputs": [],
   "source": [
    "# 组合列表\n",
    "list_y = [2.4, \"world\"]\n",
    "list_z = list_x + list_y\n",
    "print (list_z)"
   ]
  },
  {
   "cell_type": "markdown",
   "id": "987bfe7f",
   "metadata": {},
   "source": [
    "## 元组\n",
    "元组（tuples）也是python中可以保存数据但是不能替换值的对象（因此，元组称为不可变，而列表称为可变）。"
   ]
  },
  {
   "cell_type": "code",
   "execution_count": null,
   "id": "66b14cfd",
   "metadata": {},
   "outputs": [],
   "source": [
    "# 创建元组\n",
    "tuple_x = (3.0, \"hello\")\n",
    "print (tuple_x)"
   ]
  },
  {
   "cell_type": "code",
   "execution_count": null,
   "id": "2b2f3ab1",
   "metadata": {},
   "outputs": [],
   "source": [
    "# 添加元素到元组\n",
    "tuple_x = tuple_x + (5.6,)\n",
    "print (tuple_x)"
   ]
  },
  {
   "cell_type": "code",
   "execution_count": null,
   "id": "2be1ea29",
   "metadata": {},
   "outputs": [],
   "source": [
    "# 试图改变元组的值（事实上不可行）\n",
    "tuple_x[1] = \"world\""
   ]
  },
  {
   "cell_type": "markdown",
   "id": "0d735200",
   "metadata": {},
   "source": [
    "## 字典\n",
    "字典（dictionaries） 是包含键值对（key-value）的python对象。在下面的字典示例中，键是“name”和“eye_color”变量。它们各自都有与之相关的值。 字典不能有两个相同的键。"
   ]
  },
  {
   "cell_type": "code",
   "execution_count": 5,
   "id": "f5c3f719",
   "metadata": {},
   "outputs": [
    {
     "name": "stdout",
     "output_type": "stream",
     "text": [
      "{'name': 'Goku', 'eye_color': 'brown'}\n",
      "Goku\n",
      "brown\n"
     ]
    }
   ],
   "source": [
    "# 创建字典\n",
    "goku = {\"name\": \"Goku\",\n",
    "        \"eye_color\": \"brown\"}\n",
    "print (goku)\n",
    "print (goku[\"name\"])\n",
    "print (goku[\"eye_color\"])"
   ]
  },
  {
   "cell_type": "code",
   "execution_count": 6,
   "id": "075198af",
   "metadata": {},
   "outputs": [
    {
     "name": "stdout",
     "output_type": "stream",
     "text": [
      "{'name': 'Goku', 'eye_color': 'green'}\n"
     ]
    }
   ],
   "source": [
    "# 改变键的值\n",
    "goku[\"eye_color\"] = \"green\"\n",
    "print (goku)"
   ]
  },
  {
   "cell_type": "code",
   "execution_count": 7,
   "id": "8899b622",
   "metadata": {},
   "outputs": [
    {
     "name": "stdout",
     "output_type": "stream",
     "text": [
      "{'name': 'Goku', 'eye_color': 'green', 'age': 24}\n"
     ]
    }
   ],
   "source": [
    "# 添加新的键值对\n",
    "goku[\"age\"] = 24\n",
    "print (goku)"
   ]
  },
  {
   "cell_type": "code",
   "execution_count": null,
   "id": "ba0b86ab",
   "metadata": {},
   "outputs": [],
   "source": [
    "print (len(goku))"
   ]
  },
  {
   "cell_type": "markdown",
   "id": "44491870",
   "metadata": {},
   "source": [
    "## If 语句\n",
    "您可以使用if语句有条件地执行某些操作。"
   ]
  },
  {
   "cell_type": "code",
   "execution_count": null,
   "id": "f3e260fd",
   "metadata": {},
   "outputs": [],
   "source": [
    "# If 语句\n",
    "x = 4\n",
    "if x < 1:\n",
    "    score = \"low\"\n",
    "elif x <= 4:\n",
    "    score = \"medium\"\n",
    "else:\n",
    "    score = \"high\"\n",
    "print (score)"
   ]
  },
  {
   "cell_type": "code",
   "execution_count": null,
   "id": "16141fdf",
   "metadata": {},
   "outputs": [],
   "source": [
    "# 带有布尔值的if语句\n",
    "x = True\n",
    "if x:\n",
    "    print (\"it worked\")"
   ]
  },
  {
   "cell_type": "markdown",
   "id": "f9c2301f",
   "metadata": {},
   "source": [
    "## 循环语句\n",
    "您可以在python中使用for或while循环来重复执行某些操作，直到满足条件为止。"
   ]
  },
  {
   "cell_type": "code",
   "execution_count": 8,
   "id": "ac013463",
   "metadata": {},
   "outputs": [
    {
     "name": "stdout",
     "output_type": "stream",
     "text": [
      "i=0, x=2\n",
      "i=1, x=3\n",
      "i=2, x=4\n"
     ]
    }
   ],
   "source": [
    "# for循环\n",
    "x = 1\n",
    "for i in range(3): # 从 i=0 到 i=2\n",
    "    x += 1 # 等价于 x = x + 1\n",
    "    print (\"i={0}, x={1}\".format(i, x)) # 打印多个变量"
   ]
  },
  {
   "cell_type": "code",
   "execution_count": null,
   "id": "5e6e0e47",
   "metadata": {},
   "outputs": [],
   "source": [
    "# 循环遍历列表中的元素\n",
    "x = 1\n",
    "for i in [0, 1, 2]:\n",
    "    x += 1\n",
    "    print (\"i={0}, x={1}\".format(i, x))"
   ]
  },
  {
   "cell_type": "code",
   "execution_count": null,
   "id": "30862d5d",
   "metadata": {},
   "outputs": [],
   "source": [
    "# while循环\n",
    "x = 3\n",
    "while x > 0:\n",
    "    x -= 1 # 等价于 x = x - 1\n",
    "    print (x)"
   ]
  },
  {
   "cell_type": "markdown",
   "id": "4c0c9d27",
   "metadata": {},
   "source": [
    "## 函数\n",
    "函数（functions）是模块化可重用代码块的一种方法。"
   ]
  },
  {
   "cell_type": "code",
   "execution_count": 9,
   "id": "b8081e66",
   "metadata": {},
   "outputs": [
    {
     "name": "stdout",
     "output_type": "stream",
     "text": [
      "2\n"
     ]
    }
   ],
   "source": [
    "# 创建函数\n",
    "def add_two(x):\n",
    "    x += 2\n",
    "    return x\n",
    "\n",
    "# 调用函数\n",
    "score = 0\n",
    "score = add_two(x=score)\n",
    "print (score)"
   ]
  },
  {
   "cell_type": "code",
   "execution_count": 10,
   "id": "b9d7b71c",
   "metadata": {},
   "outputs": [
    {
     "name": "stdout",
     "output_type": "stream",
     "text": [
      "Goku Mohandas\n"
     ]
    }
   ],
   "source": [
    "# 具有多输入的函数\n",
    "def join_name(first_name, last_name):\n",
    "    joined_name = first_name + \" \" + last_name\n",
    "    return joined_name\n",
    "\n",
    "# 调用函数\n",
    "first_name = \"Goku\"\n",
    "last_name = \"Mohandas\"\n",
    "joined_name = join_name(first_name=first_name, last_name=last_name)\n",
    "print (joined_name)"
   ]
  },
  {
   "cell_type": "markdown",
   "id": "4089ef23",
   "metadata": {},
   "source": [
    "## 类\n",
    "类（classes） 是面向对象的Python编程的基础部分。"
   ]
  },
  {
   "cell_type": "code",
   "execution_count": 12,
   "id": "5422de2a",
   "metadata": {},
   "outputs": [],
   "source": [
    "# 创建函数\n",
    "class Pets(object):\n",
    "  \n",
    "    # 类初始化\n",
    "    def __init__(self, species, color, name):\n",
    "        self.species = species\n",
    "        self.color = color\n",
    "        self.name = name\n",
    "\n",
    "    # 用于打印\n",
    "    def __str__(self):\n",
    "        return \"{0} {1} named {2}.\".format(self.color, self.species, self.name)\n",
    "\n",
    "    # 示例函数\n",
    "    def change_name(self, new_name):\n",
    "        self.name = new_name"
   ]
  },
  {
   "cell_type": "code",
   "execution_count": 13,
   "id": "06b50a5f",
   "metadata": {},
   "outputs": [
    {
     "name": "stdout",
     "output_type": "stream",
     "text": [
      "orange dog named Guiness.\n",
      "Guiness\n"
     ]
    }
   ],
   "source": [
    "# 创建类的实例：对象\n",
    "my_dog = Pets(species=\"dog\", color=\"orange\", name=\"Guiness\",)\n",
    "print (my_dog)\n",
    "print (my_dog.name)"
   ]
  },
  {
   "cell_type": "code",
   "execution_count": 14,
   "id": "c555b04b",
   "metadata": {},
   "outputs": [
    {
     "name": "stdout",
     "output_type": "stream",
     "text": [
      "orange dog named Charlie.\n",
      "Charlie\n"
     ]
    }
   ],
   "source": [
    "# 调用类的函数\n",
    "my_dog.change_name(new_name=\"Charlie\")\n",
    "print (my_dog)\n",
    "print (my_dog.name)"
   ]
  },
  {
   "cell_type": "markdown",
   "id": "a56b89a0",
   "metadata": {},
   "source": [
    "## 其它资源\n",
    "本文是对python的快速浏览，我们将在未来的课程中学到更多东西。如果您想在进入机器学习之前了解关于python的更多信息，请查看此免费课程: [Free python course](https://www.codecademy.com/learn/learn-python)"
   ]
  }
 ],
 "metadata": {
  "kernelspec": {
   "display_name": "base",
   "language": "python",
   "name": "python3"
  },
  "language_info": {
   "codemirror_mode": {
    "name": "ipython",
    "version": 3
   },
   "file_extension": ".py",
   "mimetype": "text/x-python",
   "name": "python",
   "nbconvert_exporter": "python",
   "pygments_lexer": "ipython3",
   "version": "3.12.7"
  }
 },
 "nbformat": 4,
 "nbformat_minor": 5
}
